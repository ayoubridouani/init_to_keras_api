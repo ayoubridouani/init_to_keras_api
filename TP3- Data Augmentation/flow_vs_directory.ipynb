{
 "cells": [
  {
   "cell_type": "code",
   "execution_count": 1,
   "metadata": {},
   "outputs": [],
   "source": [
    "from tensorflow.keras.preprocessing.image import ImageDataGenerator\n",
    "from tensorflow.keras.layers import Flatten,Dense\n",
    "from tensorflow.keras.models import Sequential\n",
    "from tensorflow.keras.datasets import mnist\n",
    "from matplotlib import pyplot as plt\n",
    "import numpy as np"
   ]
  },
  {
   "cell_type": "code",
   "execution_count": 2,
   "metadata": {},
   "outputs": [],
   "source": [
    "def print_something(img):\n",
    "    print(\"............................................\")\n",
    "    return img\n",
    "\n",
    "datagen = ImageDataGenerator(\n",
    "    featurewise_center=False,\n",
    "    samplewise_center=False,\n",
    "    featurewise_std_normalization=False,\n",
    "    samplewise_std_normalization=False,\n",
    "    rotation_range=20,\n",
    "    width_shift_range=20,\n",
    "    height_shift_range=20,\n",
    "    brightness_range=[0.0,2.0],\n",
    "    vertical_flip=False,\n",
    "    horizontal_flip=True,\n",
    "    shear_range=False,\n",
    "    zoom_range=[0.8,1.0],\n",
    "    fill_mode='nearest',\n",
    "    cval=0,\n",
    "    preprocessing_function=print_something,\n",
    "    rescale=1/255.,\n",
    "    validation_split=0.2\n",
    ")"
   ]
  },
  {
   "cell_type": "code",
   "execution_count": 3,
   "metadata": {},
   "outputs": [
    {
     "name": "stdout",
     "output_type": "stream",
     "text": [
      "............................................\n",
      "............................................\n",
      "............................................\n",
      "............................................\n",
      "............................................\n",
      "............................................\n",
      "............................................\n",
      "............................................\n",
      "1/2 [==============>...............] - ETA: 0s - loss: 0.7520 - accuracy: 0.0000e+00............................................\n",
      "............................................\n",
      "............................................\n",
      "............................................\n",
      "............................................\n",
      "............................................\n",
      "............................................\n",
      "............................................\n",
      "............................................\n",
      "............................................\n",
      "............................................\n",
      "............................................\n",
      "2/2 [==============================] - 1s 261ms/step - loss: 0.7461 - accuracy: 0.1250 - val_loss: 0.7013 - val_accuracy: 0.0000e+00\n"
     ]
    }
   ],
   "source": [
    "# from array of images\n",
    "\n",
    "(X_train,y_train),(X_test,y_test) = mnist.load_data()\n",
    "X_train = np.expand_dims(X_train,axis=3)\n",
    "\n",
    "train = datagen.flow(X_train,\n",
    "                  y_train,\n",
    "                  batch_size=4,\n",
    "                  shuffle=True,\n",
    "                  save_to_dir=\".\",\n",
    "                  save_format=\"jpg\",\n",
    "                  save_prefix=\"tr\",\n",
    "                  subset=\"training\"\n",
    "             )\n",
    "\n",
    "validation = datagen.flow(X_train,\n",
    "                  y_train,\n",
    "                  shuffle=True,\n",
    "                  batch_size=4,\n",
    "                  save_to_dir=\".\",\n",
    "                  save_format=\"jpg\",\n",
    "                  save_prefix=\"te\",\n",
    "                  subset='validation')\n",
    "\n",
    "model = Sequential()\n",
    "model.add(Flatten())\n",
    "model.add(Dense(256,activation=\"relu\"))\n",
    "model.add(Dense(2,activation=\"softmax\"))\n",
    "\n",
    "model.compile(optimizer=\"adam\",loss=\"binary_crossentropy\",metrics=[\"accuracy\"])\n",
    "\n",
    "history = model.fit(train,validation_data=validation,steps_per_epoch=2,validation_steps=2,epochs=1)"
   ]
  },
  {
   "cell_type": "code",
   "execution_count": 4,
   "metadata": {},
   "outputs": [
    {
     "name": "stdout",
     "output_type": "stream",
     "text": [
      "Found 800 images belonging to 2 classes.\n",
      "Found 200 images belonging to 2 classes.\n",
      "............................................\n",
      "............................................\n",
      "............................................\n",
      "............................................\n",
      "............................................\n",
      "............................................\n",
      "............................................\n",
      "............................................\n",
      "1/2 [==============>...............] - ETA: 0s - loss: 0.8167 - accuracy: 0.5000............................................\n",
      "............................................\n",
      "............................................\n",
      "............................................\n",
      "2/2 [==============================] - ETA: 0s - loss: 4.2536 - accuracy: 0.6250............................................\n",
      "............................................\n",
      "............................................\n",
      "............................................\n",
      "............................................\n",
      "............................................\n",
      "............................................\n",
      "............................................\n",
      "............................................\n",
      "............................................\n",
      "............................................\n",
      "............................................\n",
      "2/2 [==============================] - 4s 2s/step - loss: 4.2536 - accuracy: 0.6250 - val_loss: 7.6905 - val_accuracy: 0.7500\n"
     ]
    }
   ],
   "source": [
    "# from directory of images\n",
    "\n",
    "img_height = 300\n",
    "img_width = 300\n",
    "\n",
    "train = datagen.flow_from_directory(\n",
    "    directory=\"dataset\",\n",
    "    target_size=(img_height, img_width),\n",
    "    classes=[\"dog\",\"cat\"],\n",
    "    batch_size=4,\n",
    "    class_mode='binary',\n",
    "    subset='training',\n",
    "    save_to_dir=\".\")\n",
    "\n",
    "validation = datagen.flow_from_directory(\n",
    "    directory=\"dataset\",\n",
    "    target_size=(img_height, img_width),\n",
    "    classes=[\"dog\",\"cat\"],\n",
    "    batch_size=4,\n",
    "    class_mode='binary',\n",
    "    subset='validation',\n",
    "    save_to_dir=\".\")\n",
    "\n",
    "model = Sequential()\n",
    "model.add(Flatten())\n",
    "model.add(Dense(256,activation=\"relu\"))\n",
    "model.add(Dense(2,activation=\"softmax\"))\n",
    "\n",
    "model.compile(optimizer=\"adam\",loss=\"binary_crossentropy\",metrics=[\"accuracy\"])\n",
    "\n",
    "history = model.fit(train,validation_data=validation,steps_per_epoch=2,validation_steps=2,epochs=1)"
   ]
  },
  {
   "cell_type": "code",
   "execution_count": null,
   "metadata": {},
   "outputs": [],
   "source": []
  }
 ],
 "metadata": {
  "kernelspec": {
   "display_name": "Python 3",
   "language": "python",
   "name": "python3"
  },
  "language_info": {
   "codemirror_mode": {
    "name": "ipython",
    "version": 3
   },
   "file_extension": ".py",
   "mimetype": "text/x-python",
   "name": "python",
   "nbconvert_exporter": "python",
   "pygments_lexer": "ipython3",
   "version": "3.7.7"
  }
 },
 "nbformat": 4,
 "nbformat_minor": 4
}
